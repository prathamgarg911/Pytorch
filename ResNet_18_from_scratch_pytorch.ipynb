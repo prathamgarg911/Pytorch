{
  "nbformat": 4,
  "nbformat_minor": 0,
  "metadata": {
    "colab": {
      "provenance": [],
      "gpuType": "T4",
      "mount_file_id": "1zoPEtWLWvSBs3b29WznBAb4B-s4-rAxn",
      "authorship_tag": "ABX9TyMFsI8zjC90oGmwvE6qsHCF",
      "include_colab_link": true
    },
    "kernelspec": {
      "name": "python3",
      "display_name": "Python 3"
    },
    "language_info": {
      "name": "python"
    },
    "accelerator": "GPU"
  },
  "cells": [
    {
      "cell_type": "markdown",
      "metadata": {
        "id": "view-in-github",
        "colab_type": "text"
      },
      "source": [
        "<a href=\"https://colab.research.google.com/github/prathamgarg911/Pytorch/blob/main/ResNet_18_from_scratch_pytorch.ipynb\" target=\"_parent\"><img src=\"https://colab.research.google.com/assets/colab-badge.svg\" alt=\"Open In Colab\"/></a>"
      ]
    },
    {
      "cell_type": "code",
      "execution_count": null,
      "metadata": {
        "id": "GM59n7lY2IOI"
      },
      "outputs": [],
      "source": [
        "import torch\n",
        "import torch.nn as nn\n",
        "import torchvision\n",
        "import torch.nn.functional as F\n",
        "import torchvision.transforms as transforms\n",
        "import matplotlib.pyplot as plt\n",
        "import numpy as np\n",
        "from torchvision.transforms import v2\n",
        "from torch.utils.data import DataLoader, TensorDataset"
      ]
    },
    {
      "cell_type": "code",
      "source": [
        "def unpickle(file):\n",
        "    import pickle\n",
        "    with open(file, 'rb') as fo:\n",
        "        dict = pickle.load(fo, encoding='bytes')\n",
        "    return dict"
      ],
      "metadata": {
        "id": "8WdRdGWR677X"
      },
      "execution_count": null,
      "outputs": []
    },
    {
      "cell_type": "code",
      "source": [
        "batch_dict = {}\n",
        "test_dict = unpickle('/content/drive/MyDrive/computer-vision-pytorch/cifar-10-batches-py/test_batch')\n",
        "for i in range(5):\n",
        "    batch_dict[f'batch_{i+1}'] = unpickle(\"/content/drive/MyDrive/computer-vision-pytorch/cifar-10-batches-py/data_batch_%d\"%(i + 1))"
      ],
      "metadata": {
        "id": "KVgUV2IZ6-CH"
      },
      "execution_count": null,
      "outputs": []
    },
    {
      "cell_type": "code",
      "source": [
        "norm_train_batch = {}\n",
        "ls = [x for x in batch_dict.keys()]"
      ],
      "metadata": {
        "id": "5zQ76gXP7N2p"
      },
      "execution_count": null,
      "outputs": []
    },
    {
      "cell_type": "code",
      "source": [
        "for name in ls:\n",
        "    temp = torch.tensor(batch_dict[name][b'data'],dtype = torch.float32)\n",
        "    temp = temp/255.0\n",
        "    temp = temp.view(temp.shape[0],3,32,32)\n",
        "    normalize = transforms.Compose([\n",
        "    transforms.Normalize(mean=[torch.mean(temp[:,0,:,:]).item(), torch.mean(temp[:,1,:,:]).item(), torch.mean(temp[:,2,:,:]).item()], std=[torch.std(temp[:,0,:,:]).item(), torch.std(temp[:,1,:,:]).item(), torch.std(temp[:,2,:,:]).item()])  # Normalize and scale\n",
        "    ])\n",
        "    temp = normalize(temp)\n",
        "    norm_train_batch[name] = temp\n",
        "\n",
        "\n",
        "test_images = torch.tensor(test_dict[b'data'],dtype = torch.float32)\n",
        "test_labels = torch.tensor(test_dict[b'labels'])\n",
        "test_images = test_images.view(test_images.shape[0],3,32,32)\n",
        "norm_test_images = test_images/255.0\n",
        "norm_test_images = norm_test_images.view(norm_test_images.shape[0],3,32,32)\n",
        "\n",
        "normalizer = transforms.Compose([\n",
        "    transforms.Normalize(mean=[torch.mean(norm_test_images[:,0,:,:]).item(), torch.mean(norm_test_images[:,1,:,:]).item(), torch.mean(norm_test_images[:,2,:,:]).item()], std=[torch.std(norm_test_images[:,0,:,:]).item(), torch.std(norm_test_images[:,1,:,:]).item(), torch.std(norm_test_images[:,2,:,:]).item()])\n",
        "])\n",
        "\n",
        "norm_test_images = normalizer(norm_test_images)\n",
        "\n",
        "training_image = torch.tensor(torch.cat((torch.tensor(batch_dict['batch_1'][b'data']),torch.tensor(batch_dict['batch_2'][b'data']),torch.tensor(batch_dict['batch_3'][b'data']),torch.tensor(batch_dict['batch_4'][b'data']),torch.tensor(batch_dict['batch_5'][b'data'])),0),dtype = torch.float32)\n",
        "training_labels = torch.tensor(torch.cat((torch.tensor(batch_dict['batch_1'][b'labels']),torch.tensor(batch_dict['batch_2'][b'labels']),torch.tensor(batch_dict['batch_3'][b'labels']),torch.tensor(batch_dict['batch_4'][b'labels']),torch.tensor(batch_dict['batch_5'][b'labels']))))\n",
        "\n",
        "\n",
        "norm_training_image = torch.tensor(torch.cat((torch.tensor(norm_train_batch['batch_1']),torch.tensor(norm_train_batch['batch_2']),torch.tensor(norm_train_batch['batch_3']),torch.tensor(norm_train_batch['batch_4']),torch.tensor(norm_train_batch['batch_5'])),0),dtype = torch.float32)"
      ],
      "metadata": {
        "colab": {
          "base_uri": "https://localhost:8080/"
        },
        "id": "Zyv6j2HX7SR-",
        "outputId": "acf95439-e6b2-407b-8d71-babfbb4b48b8"
      },
      "execution_count": null,
      "outputs": [
        {
          "output_type": "stream",
          "name": "stderr",
          "text": [
            "<ipython-input-10-b47502e7a676>:24: UserWarning: To copy construct from a tensor, it is recommended to use sourceTensor.clone().detach() or sourceTensor.clone().detach().requires_grad_(True), rather than torch.tensor(sourceTensor).\n",
            "  training_image = torch.tensor(torch.cat((torch.tensor(batch_dict['batch_1'][b'data']),torch.tensor(batch_dict['batch_2'][b'data']),torch.tensor(batch_dict['batch_3'][b'data']),torch.tensor(batch_dict['batch_4'][b'data']),torch.tensor(batch_dict['batch_5'][b'data'])),0),dtype = torch.float32)\n",
            "<ipython-input-10-b47502e7a676>:25: UserWarning: To copy construct from a tensor, it is recommended to use sourceTensor.clone().detach() or sourceTensor.clone().detach().requires_grad_(True), rather than torch.tensor(sourceTensor).\n",
            "  training_labels = torch.tensor(torch.cat((torch.tensor(batch_dict['batch_1'][b'labels']),torch.tensor(batch_dict['batch_2'][b'labels']),torch.tensor(batch_dict['batch_3'][b'labels']),torch.tensor(batch_dict['batch_4'][b'labels']),torch.tensor(batch_dict['batch_5'][b'labels']))))\n",
            "<ipython-input-10-b47502e7a676>:28: UserWarning: To copy construct from a tensor, it is recommended to use sourceTensor.clone().detach() or sourceTensor.clone().detach().requires_grad_(True), rather than torch.tensor(sourceTensor).\n",
            "  norm_training_image = torch.tensor(torch.cat((torch.tensor(norm_train_batch['batch_1']),torch.tensor(norm_train_batch['batch_2']),torch.tensor(norm_train_batch['batch_3']),torch.tensor(norm_train_batch['batch_4']),torch.tensor(norm_train_batch['batch_5'])),0),dtype = torch.float32)\n"
          ]
        }
      ]
    },
    {
      "cell_type": "code",
      "source": [
        "training_image = training_image.view(50000,3,32,32)"
      ],
      "metadata": {
        "id": "gq0TlnbL4yEx"
      },
      "execution_count": null,
      "outputs": []
    },
    {
      "cell_type": "code",
      "source": [
        "test_images.shape"
      ],
      "metadata": {
        "colab": {
          "base_uri": "https://localhost:8080/"
        },
        "id": "JUKRU4Nt75K4",
        "outputId": "f634a1e7-3246-402c-fb6b-c168172291b2"
      },
      "execution_count": null,
      "outputs": [
        {
          "output_type": "execute_result",
          "data": {
            "text/plain": [
              "torch.Size([10000, 3, 32, 32])"
            ]
          },
          "metadata": {},
          "execution_count": 12
        }
      ]
    },
    {
      "cell_type": "code",
      "source": [
        "training_labels.shape"
      ],
      "metadata": {
        "colab": {
          "base_uri": "https://localhost:8080/"
        },
        "id": "ZrN3wqfI8Ett",
        "outputId": "d9184b66-b797-405a-d3c4-a3bff35522a4"
      },
      "execution_count": null,
      "outputs": [
        {
          "output_type": "execute_result",
          "data": {
            "text/plain": [
              "torch.Size([50000])"
            ]
          },
          "metadata": {},
          "execution_count": 13
        }
      ]
    },
    {
      "cell_type": "code",
      "source": [
        "test_labels.shape"
      ],
      "metadata": {
        "colab": {
          "base_uri": "https://localhost:8080/"
        },
        "id": "k8oQxxGA8Kgy",
        "outputId": "8fff953a-b605-4a12-ff3a-2629aeeb641d"
      },
      "execution_count": null,
      "outputs": [
        {
          "output_type": "execute_result",
          "data": {
            "text/plain": [
              "torch.Size([10000])"
            ]
          },
          "metadata": {},
          "execution_count": 14
        }
      ]
    },
    {
      "cell_type": "code",
      "source": [
        "class Resnet(nn.Module):\n",
        "\n",
        "  def __init__ (self):\n",
        "\n",
        "    super(Resnet,self).__init__()\n",
        "\n",
        "    self.pad = nn.ZeroPad2d(2)\n",
        "\n",
        "    self.Conv0 = nn.Conv2d(3,64,3,padding=1)\n",
        "    self.Conv1 = nn.Conv2d(64,64,3,padding=1)\n",
        "    self.Conv2 = nn.Conv2d(64,128,3,padding=1)\n",
        "    self.Conv3 = nn.Conv2d(128,128,3,padding=1)\n",
        "    self.Conv4 = nn.Conv2d(128,256,3,padding=1)\n",
        "    self.Conv5 = nn.Conv2d(256,256,3,padding=1)\n",
        "    self.Conv6 = nn.Conv2d(256,512,3,padding=1)\n",
        "    self.Conv7 = nn.Conv2d(512,512,3,padding=1)\n",
        "    self.maxpool = nn.MaxPool2d(2)\n",
        "\n",
        "    self.bnorm1 = nn.BatchNorm2d(64)\n",
        "    self.bnorm2 = nn.BatchNorm2d(128)\n",
        "    self.bnorm3 = nn.BatchNorm2d(256)\n",
        "    self.bnorm4 = nn.BatchNorm2d(512)\n",
        "\n",
        "    self.avgpool = nn.AvgPool2d(2)\n",
        "\n",
        "    self.Linear1 = nn.Linear(512*2*2,512)\n",
        "    self.Linear2 = nn.Linear(512,10)\n",
        "\n",
        "    self.softmax = nn.Softmax(1)\n",
        "\n",
        "\n",
        "  def forward(self,x) :\n",
        "\n",
        "     x = self.Conv0(x)\n",
        "\n",
        "     shortcut = x\n",
        "\n",
        "     x = F.relu(self.Conv1(x))\n",
        "     x = F.relu(self.bnorm1(self.Conv1(x)))\n",
        "     x = x + shortcut\n",
        "\n",
        "     shortcut = x\n",
        "\n",
        "     x = F.relu(self.Conv1(x))\n",
        "     x = F.relu(self.bnorm1(self.Conv1(x)))\n",
        "     x = x + shortcut\n",
        "\n",
        "     shortcut = F.relu(self.bnorm2(self.Conv2(x)))\n",
        "     shortcut = self.maxpool(shortcut)\n",
        "\n",
        "     x = F.relu(self.bnorm2(self.Conv2(x)))\n",
        "     x = F.relu(self.bnorm2(self.Conv3(x)))\n",
        "     x = self.maxpool(x)\n",
        "     x = x + shortcut\n",
        "\n",
        "     shortcut = x\n",
        "\n",
        "     x = F.relu(self.bnorm2(self.Conv3(x)))\n",
        "     x = F.relu(self.bnorm2(self.Conv3(x)))\n",
        "     x = x + shortcut\n",
        "\n",
        "     shortcut = F.relu(self.bnorm3(self.Conv4(x)))\n",
        "     shortcut = self.maxpool(shortcut)\n",
        "\n",
        "     x = F.relu(self.bnorm3(self.Conv4(x)))\n",
        "     x = F.relu(self.bnorm3(self.Conv5(x)))\n",
        "     x = self.maxpool(x)\n",
        "     x = x + shortcut\n",
        "\n",
        "     shortcut = x\n",
        "\n",
        "     x = F.relu(self.bnorm3(self.Conv5(x)))\n",
        "     x = F.relu(self.bnorm3(self.Conv5(x)))\n",
        "     x = x + shortcut\n",
        "\n",
        "     shortcut = F.relu(self.bnorm4(self.Conv6(x)))\n",
        "     shortcut = self.maxpool(shortcut)\n",
        "\n",
        "     x = F.relu(self.bnorm4(self.Conv6(x)))\n",
        "     x = F.relu(self.bnorm4(self.Conv7(x)))\n",
        "     x = self.maxpool(x)\n",
        "     x = x + shortcut\n",
        "\n",
        "     shortcut = x\n",
        "\n",
        "     x = F.relu(self.bnorm4(self.Conv7(x)))\n",
        "     x = F.relu(self.bnorm4(self.Conv7(x)))\n",
        "     x = x + shortcut\n",
        "\n",
        "\n",
        "     x = self.avgpool(x)\n",
        "\n",
        "     x = x.view(x.shape[0],512*2*2)\n",
        "     x = F.relu(self.Linear1(x))\n",
        "\n",
        "     x = self.Linear2(x)\n",
        "    #  x = self.softmax(x)\n",
        "\n",
        "\n",
        "     return x\n",
        "\n",
        "\n",
        "\n",
        "\n",
        "\n",
        "\n"
      ],
      "metadata": {
        "id": "pi-MqRzd8Mjt"
      },
      "execution_count": 68,
      "outputs": []
    },
    {
      "cell_type": "code",
      "source": [
        "batch_size = 16\n",
        "train_dataset = TensorDataset(training_image,training_labels)\n",
        "test_dataset = TensorDataset(test_images,test_labels)\n",
        "train_loader = DataLoader(train_dataset,shuffle=True,batch_size=batch_size)\n",
        "test_loader = DataLoader(test_dataset,shuffle =True,batch_size=batch_size)"
      ],
      "metadata": {
        "id": "UCpg_3j68a2Z"
      },
      "execution_count": 69,
      "outputs": []
    },
    {
      "cell_type": "code",
      "source": [
        "device = 'cuda'\n",
        "model = Resnet().to(device)\n",
        "\n",
        "criterion = nn.CrossEntropyLoss()\n",
        "optimizer = torch.optim.AdamW(model.parameters(),lr = 0.001)\n"
      ],
      "metadata": {
        "id": "NPbBNJg7QiNO"
      },
      "execution_count": 70,
      "outputs": []
    },
    {
      "cell_type": "code",
      "source": [
        "training_loss = 0.0\n",
        "training_accuracy = 0\n",
        "\n",
        "for epoch in range(20):\n",
        "    for i,(images,labels) in enumerate(train_loader):\n",
        "        images = images.to(device)\n",
        "        labels = labels.to(device)\n",
        "        output = model(images)\n",
        "        loss = criterion(output,labels)\n",
        "\n",
        "        # training_loss += loss.item()\n",
        "        optimizer.zero_grad()\n",
        "\n",
        "        loss.backward()\n",
        "\n",
        "        optimizer.step()\n",
        "\n",
        "        _, predicted = torch.max(output.data, 1)\n",
        "\n",
        "        training_accuracy += (predicted == labels).sum().item()\n",
        "        if ((i+1)%100 == 0):\n",
        "            print(f'epoch:{epoch + 1},loss:{loss.item():.4f}')\n",
        "            # wandb.log({\n",
        "            #     \"Training_Loss\":training_loss/100,\n",
        "            #     \"Training_accuracy\":training_accuracy/100,\n",
        "            # })\n",
        "            # training_loss = 0.0\n",
        "            # training_accuracy = 0\n",
        "    print(f'accuracy:{training_accuracy*100/50000}')\n",
        "    training_accuracy = 0"
      ],
      "metadata": {
        "colab": {
          "base_uri": "https://localhost:8080/"
        },
        "id": "JtE715dvOrl2",
        "outputId": "2d4dce9f-2c3d-4b0f-a97b-8fc77d307de2"
      },
      "execution_count": null,
      "outputs": [
        {
          "output_type": "stream",
          "name": "stdout",
          "text": [
            "epoch:1,loss:2.0920\n",
            "epoch:1,loss:2.2537\n",
            "epoch:1,loss:2.2597\n",
            "epoch:1,loss:1.6909\n",
            "epoch:1,loss:1.9126\n",
            "epoch:1,loss:1.8822\n",
            "epoch:1,loss:1.6752\n",
            "epoch:1,loss:1.7822\n",
            "epoch:1,loss:1.5613\n",
            "epoch:1,loss:1.1913\n",
            "epoch:1,loss:1.4774\n",
            "epoch:1,loss:1.3928\n",
            "epoch:1,loss:1.2924\n",
            "epoch:1,loss:1.5856\n",
            "epoch:1,loss:1.4603\n",
            "epoch:1,loss:1.4893\n",
            "epoch:1,loss:1.9328\n",
            "epoch:1,loss:1.3559\n",
            "epoch:1,loss:1.3927\n",
            "epoch:1,loss:1.3885\n",
            "epoch:1,loss:1.2092\n",
            "epoch:1,loss:1.1976\n",
            "epoch:1,loss:1.2256\n",
            "epoch:1,loss:1.5887\n",
            "epoch:1,loss:0.8023\n",
            "epoch:1,loss:1.6595\n",
            "epoch:1,loss:1.1923\n",
            "epoch:1,loss:1.1918\n",
            "epoch:1,loss:1.6131\n",
            "epoch:1,loss:1.1398\n",
            "epoch:1,loss:0.6853\n",
            "accuracy:42.716\n",
            "epoch:2,loss:1.0190\n",
            "epoch:2,loss:0.5948\n",
            "epoch:2,loss:0.8578\n",
            "epoch:2,loss:1.0930\n",
            "epoch:2,loss:0.9092\n",
            "epoch:2,loss:0.7443\n",
            "epoch:2,loss:1.5432\n",
            "epoch:2,loss:0.7981\n",
            "epoch:2,loss:0.6783\n",
            "epoch:2,loss:1.1956\n",
            "epoch:2,loss:1.3413\n",
            "epoch:2,loss:0.8752\n",
            "epoch:2,loss:0.9483\n",
            "epoch:2,loss:0.6848\n",
            "epoch:2,loss:0.8754\n",
            "epoch:2,loss:0.9827\n",
            "epoch:2,loss:1.0083\n",
            "epoch:2,loss:0.7064\n",
            "epoch:2,loss:0.5756\n",
            "epoch:2,loss:1.0947\n",
            "epoch:2,loss:0.8289\n",
            "epoch:2,loss:1.1433\n",
            "epoch:2,loss:0.8211\n",
            "epoch:2,loss:1.0055\n",
            "epoch:2,loss:1.0099\n",
            "epoch:2,loss:0.5198\n",
            "epoch:2,loss:1.0193\n",
            "epoch:2,loss:1.1356\n",
            "epoch:2,loss:0.7315\n",
            "epoch:2,loss:1.1770\n",
            "epoch:2,loss:0.6361\n",
            "accuracy:64.936\n",
            "epoch:3,loss:0.9158\n",
            "epoch:3,loss:0.7733\n",
            "epoch:3,loss:0.8296\n",
            "epoch:3,loss:0.9779\n",
            "epoch:3,loss:0.7853\n",
            "epoch:3,loss:0.4842\n",
            "epoch:3,loss:0.6410\n",
            "epoch:3,loss:0.4417\n",
            "epoch:3,loss:0.8839\n",
            "epoch:3,loss:1.1762\n",
            "epoch:3,loss:1.0340\n",
            "epoch:3,loss:0.9713\n",
            "epoch:3,loss:0.5406\n",
            "epoch:3,loss:0.9802\n",
            "epoch:3,loss:0.9499\n",
            "epoch:3,loss:0.7494\n",
            "epoch:3,loss:0.4061\n",
            "epoch:3,loss:0.6723\n",
            "epoch:3,loss:0.4076\n",
            "epoch:3,loss:0.9508\n",
            "epoch:3,loss:1.2343\n",
            "epoch:3,loss:0.7225\n",
            "epoch:3,loss:0.5011\n",
            "epoch:3,loss:0.7189\n",
            "epoch:3,loss:0.7760\n",
            "epoch:3,loss:0.6675\n",
            "epoch:3,loss:0.4415\n",
            "epoch:3,loss:0.8433\n",
            "epoch:3,loss:0.6428\n",
            "epoch:3,loss:0.8220\n",
            "epoch:3,loss:0.7551\n",
            "accuracy:74.932\n",
            "epoch:4,loss:1.1158\n",
            "epoch:4,loss:0.8990\n",
            "epoch:4,loss:0.8616\n",
            "epoch:4,loss:0.5434\n",
            "epoch:4,loss:0.6359\n",
            "epoch:4,loss:0.3503\n",
            "epoch:4,loss:0.6821\n",
            "epoch:4,loss:0.5215\n",
            "epoch:4,loss:0.6912\n",
            "epoch:4,loss:0.5504\n",
            "epoch:4,loss:0.8167\n",
            "epoch:4,loss:0.5724\n",
            "epoch:4,loss:0.5974\n",
            "epoch:4,loss:0.6367\n",
            "epoch:4,loss:0.6270\n",
            "epoch:4,loss:0.5669\n",
            "epoch:4,loss:0.3499\n",
            "epoch:4,loss:0.6013\n",
            "epoch:4,loss:0.3824\n",
            "epoch:4,loss:0.5937\n",
            "epoch:4,loss:0.3403\n",
            "epoch:4,loss:0.5179\n",
            "epoch:4,loss:0.8074\n",
            "epoch:4,loss:0.7393\n",
            "epoch:4,loss:0.3050\n",
            "epoch:4,loss:0.3195\n",
            "epoch:4,loss:0.2597\n",
            "epoch:4,loss:0.1865\n",
            "epoch:4,loss:0.4463\n",
            "epoch:4,loss:0.3189\n",
            "epoch:4,loss:0.5379\n",
            "accuracy:80.714\n",
            "epoch:5,loss:0.5844\n",
            "epoch:5,loss:0.5181\n",
            "epoch:5,loss:0.5333\n",
            "epoch:5,loss:0.2916\n",
            "epoch:5,loss:0.3356\n",
            "epoch:5,loss:0.4857\n",
            "epoch:5,loss:0.4415\n",
            "epoch:5,loss:0.3966\n",
            "epoch:5,loss:0.4698\n",
            "epoch:5,loss:0.2057\n",
            "epoch:5,loss:0.3037\n",
            "epoch:5,loss:0.4347\n",
            "epoch:5,loss:0.4813\n",
            "epoch:5,loss:0.4149\n",
            "epoch:5,loss:0.5029\n",
            "epoch:5,loss:0.3258\n",
            "epoch:5,loss:0.6874\n",
            "epoch:5,loss:0.5260\n",
            "epoch:5,loss:0.6044\n",
            "epoch:5,loss:0.1241\n",
            "epoch:5,loss:0.1833\n",
            "epoch:5,loss:0.4197\n",
            "epoch:5,loss:0.4345\n",
            "epoch:5,loss:0.6699\n",
            "epoch:5,loss:0.6288\n",
            "epoch:5,loss:0.3631\n",
            "epoch:5,loss:0.3701\n",
            "epoch:5,loss:0.4905\n",
            "epoch:5,loss:0.4489\n",
            "epoch:5,loss:0.1144\n",
            "epoch:5,loss:0.7083\n",
            "accuracy:84.576\n",
            "epoch:6,loss:0.4690\n",
            "epoch:6,loss:0.2723\n",
            "epoch:6,loss:0.4529\n",
            "epoch:6,loss:0.1168\n",
            "epoch:6,loss:0.6514\n",
            "epoch:6,loss:0.7031\n",
            "epoch:6,loss:0.4234\n",
            "epoch:6,loss:0.1981\n",
            "epoch:6,loss:0.3474\n",
            "epoch:6,loss:0.2079\n",
            "epoch:6,loss:0.2133\n",
            "epoch:6,loss:0.9188\n",
            "epoch:6,loss:0.1652\n",
            "epoch:6,loss:0.2946\n",
            "epoch:6,loss:0.5033\n",
            "epoch:6,loss:0.3812\n",
            "epoch:6,loss:0.8632\n",
            "epoch:6,loss:0.1250\n",
            "epoch:6,loss:0.3157\n",
            "epoch:6,loss:0.1529\n",
            "epoch:6,loss:0.0224\n",
            "epoch:6,loss:0.4761\n",
            "epoch:6,loss:0.4440\n",
            "epoch:6,loss:0.2369\n",
            "epoch:6,loss:0.4800\n",
            "epoch:6,loss:0.2418\n",
            "epoch:6,loss:0.2098\n",
            "epoch:6,loss:0.5477\n",
            "epoch:6,loss:0.6356\n",
            "epoch:6,loss:0.1830\n",
            "epoch:6,loss:0.1665\n",
            "accuracy:88.106\n",
            "epoch:7,loss:0.0281\n",
            "epoch:7,loss:0.1331\n",
            "epoch:7,loss:0.3159\n",
            "epoch:7,loss:0.0968\n",
            "epoch:7,loss:0.0598\n",
            "epoch:7,loss:0.1655\n",
            "epoch:7,loss:0.4402\n",
            "epoch:7,loss:0.3757\n",
            "epoch:7,loss:0.5481\n",
            "epoch:7,loss:0.1959\n",
            "epoch:7,loss:0.1396\n",
            "epoch:7,loss:0.2371\n",
            "epoch:7,loss:0.4340\n",
            "epoch:7,loss:0.2496\n",
            "epoch:7,loss:0.1920\n",
            "epoch:7,loss:0.5932\n",
            "epoch:7,loss:0.1381\n",
            "epoch:7,loss:0.1667\n",
            "epoch:7,loss:0.2643\n",
            "epoch:7,loss:0.4506\n",
            "epoch:7,loss:0.2018\n",
            "epoch:7,loss:0.1650\n",
            "epoch:7,loss:0.3289\n",
            "epoch:7,loss:0.0699\n",
            "epoch:7,loss:0.0812\n",
            "epoch:7,loss:0.2844\n",
            "epoch:7,loss:0.1115\n",
            "epoch:7,loss:0.5399\n",
            "epoch:7,loss:0.2952\n",
            "epoch:7,loss:0.1476\n",
            "epoch:7,loss:0.0915\n",
            "accuracy:90.434\n",
            "epoch:8,loss:0.2534\n",
            "epoch:8,loss:0.1928\n",
            "epoch:8,loss:0.2989\n",
            "epoch:8,loss:0.2574\n",
            "epoch:8,loss:0.5293\n",
            "epoch:8,loss:0.0285\n",
            "epoch:8,loss:0.0962\n",
            "epoch:8,loss:0.1774\n",
            "epoch:8,loss:0.3833\n",
            "epoch:8,loss:0.1046\n",
            "epoch:8,loss:0.4403\n",
            "epoch:8,loss:0.1021\n",
            "epoch:8,loss:0.1040\n",
            "epoch:8,loss:0.1074\n",
            "epoch:8,loss:0.0638\n",
            "epoch:8,loss:0.0362\n",
            "epoch:8,loss:0.3917\n",
            "epoch:8,loss:0.1930\n",
            "epoch:8,loss:0.3692\n",
            "epoch:8,loss:0.1311\n",
            "epoch:8,loss:0.0942\n",
            "epoch:8,loss:0.0237\n",
            "epoch:8,loss:0.3766\n",
            "epoch:8,loss:0.0019\n",
            "epoch:8,loss:0.1326\n",
            "epoch:8,loss:0.0663\n",
            "epoch:8,loss:0.0291\n",
            "epoch:8,loss:0.1833\n",
            "epoch:8,loss:0.4534\n",
            "epoch:8,loss:0.0859\n",
            "epoch:8,loss:0.0684\n",
            "accuracy:92.794\n",
            "epoch:9,loss:0.0262\n",
            "epoch:9,loss:0.4169\n",
            "epoch:9,loss:0.0690\n",
            "epoch:9,loss:0.0877\n",
            "epoch:9,loss:0.0051\n",
            "epoch:9,loss:0.0272\n",
            "epoch:9,loss:0.0609\n",
            "epoch:9,loss:0.1624\n",
            "epoch:9,loss:0.2855\n",
            "epoch:9,loss:0.1696\n",
            "epoch:9,loss:0.0149\n",
            "epoch:9,loss:0.0694\n",
            "epoch:9,loss:0.0350\n",
            "epoch:9,loss:0.1605\n",
            "epoch:9,loss:0.2076\n",
            "epoch:9,loss:0.0088\n",
            "epoch:9,loss:0.0545\n",
            "epoch:9,loss:0.2344\n",
            "epoch:9,loss:0.0246\n",
            "epoch:9,loss:0.4389\n",
            "epoch:9,loss:0.2151\n",
            "epoch:9,loss:0.3291\n",
            "epoch:9,loss:0.0893\n",
            "epoch:9,loss:0.2961\n",
            "epoch:9,loss:0.1245\n",
            "epoch:9,loss:0.0216\n",
            "epoch:9,loss:0.0165\n",
            "epoch:9,loss:0.2444\n",
            "epoch:9,loss:0.1147\n",
            "epoch:9,loss:0.2246\n",
            "epoch:9,loss:0.3578\n",
            "accuracy:94.4\n",
            "epoch:10,loss:0.0799\n",
            "epoch:10,loss:0.0331\n",
            "epoch:10,loss:0.0046\n",
            "epoch:10,loss:0.0037\n",
            "epoch:10,loss:0.1041\n",
            "epoch:10,loss:0.1310\n",
            "epoch:10,loss:0.0121\n",
            "epoch:10,loss:0.0449\n",
            "epoch:10,loss:0.0305\n",
            "epoch:10,loss:0.0401\n",
            "epoch:10,loss:0.0676\n",
            "epoch:10,loss:0.0616\n",
            "epoch:10,loss:0.1138\n",
            "epoch:10,loss:0.0353\n",
            "epoch:10,loss:0.5000\n",
            "epoch:10,loss:0.1410\n"
          ]
        }
      ]
    },
    {
      "cell_type": "code",
      "source": [
        "with torch.no_grad():\n",
        "    n_correct = 0\n",
        "    n_samples = 0\n",
        "    test_loss = 0.0\n",
        "    test_accuracy = 0\n",
        "    for i,(images, labels) in enumerate(test_loader):\n",
        "        images = images.to(device)\n",
        "        labels = labels.to(device)\n",
        "        outputs = model(images)\n",
        "        loss = criterion(outputs.data,labels)\n",
        "        _, predicted = torch.max(outputs.data, 1)\n",
        "        n_samples += labels.size(0)\n",
        "        n_correct += (predicted == labels).sum().item()\n",
        "        test_accuracy = n_correct\n",
        "        test_loss = loss.item()\n",
        "        if((i+1)%50 == 0):\n",
        "            # wandb.log({\"Test_loss\":test_loss/100,\n",
        "            #            \"Test_accuracy\":test_accuracy/100})\n",
        "            test_accuracy = 0\n",
        "            test_loss = 0\n",
        "    acc = 100.0 * n_correct / n_samples\n",
        "    print(f'Accuracy of the network on the 10000 test images:{acc}%')"
      ],
      "metadata": {
        "colab": {
          "base_uri": "https://localhost:8080/"
        },
        "id": "opBzJ9f8RSJ0",
        "outputId": "6f471770-ee4b-488f-a170-402d646faba4"
      },
      "execution_count": null,
      "outputs": [
        {
          "output_type": "stream",
          "name": "stdout",
          "text": [
            "Accuracy of the network on the 10000 test images:77.65%\n"
          ]
        }
      ]
    },
    {
      "cell_type": "code",
      "source": [
        "!nvidia-smi"
      ],
      "metadata": {
        "id": "BFp8J-lGRDwe"
      },
      "execution_count": null,
      "outputs": []
    }
  ]
}